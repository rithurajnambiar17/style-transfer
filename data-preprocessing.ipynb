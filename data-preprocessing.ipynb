{
 "cells": [
  {
   "cell_type": "code",
   "execution_count": 19,
   "metadata": {},
   "outputs": [],
   "source": [
    "import os\n",
    "import cv2\n",
    "import shutil\n",
    "import numpy as np\n",
    "import matplotlib.pyplot as plt"
   ]
  },
  {
   "cell_type": "code",
   "execution_count": 7,
   "metadata": {},
   "outputs": [],
   "source": [
    "def resize_image(image):\n",
    "    \n",
    "    # Resize the image to 256x256 pixels\n",
    "    resized_image = cv2.resize(image, (256, 256))\n",
    "    \n",
    "    return resized_image"
   ]
  },
  {
   "cell_type": "code",
   "execution_count": 3,
   "metadata": {},
   "outputs": [],
   "source": [
    "def normalize_image(image):\n",
    "    # Normalize the image\n",
    "    normalized_image = image / 255.0\n",
    "    \n",
    "    return normalized_image"
   ]
  },
  {
   "cell_type": "markdown",
   "metadata": {},
   "source": [
    "# Resizing images!"
   ]
  },
  {
   "cell_type": "markdown",
   "metadata": {},
   "source": [
    "## For cubism"
   ]
  },
  {
   "cell_type": "code",
   "execution_count": 14,
   "metadata": {},
   "outputs": [],
   "source": [
    "# Define the paths\n",
    "original_image_dir = 'data/cubism/originalImage/'\n",
    "resized_image_dir = 'data/cubism/resizedImage/'\n",
    "\n",
    "# Get the list of all files in the originalImage directory\n",
    "all_files = os.listdir(original_image_dir)\n",
    "\n",
    "# Loop through each file\n",
    "for file_name in all_files:\n",
    "    # Construct the full path of the original image\n",
    "    original_image_path = os.path.join(original_image_dir, file_name)\n",
    "    \n",
    "    # Read the original image\n",
    "    image = cv2.imread(original_image_path)\n",
    "    \n",
    "    # Resize the image using the predefined function\n",
    "    resized_image = resize_image(image)\n",
    "    \n",
    "    # Construct the full path of the resized image\n",
    "    resized_image_path = os.path.join(resized_image_dir, file_name)\n",
    "    \n",
    "    # Save the resized and normalized image\n",
    "    cv2.imwrite(resized_image_path, resized_image)\n"
   ]
  },
  {
   "cell_type": "markdown",
   "metadata": {},
   "source": [
    "## For Impressionism"
   ]
  },
  {
   "cell_type": "code",
   "execution_count": 15,
   "metadata": {},
   "outputs": [],
   "source": [
    "# Define the paths\n",
    "original_image_dir = 'data/impressionism/originalImage/'\n",
    "resized_image_dir = 'data/impressionism/resizedImage/'\n",
    "\n",
    "# Get the list of all files in the originalImage directory\n",
    "all_files = os.listdir(original_image_dir)\n",
    "\n",
    "# Loop through each file\n",
    "for file_name in all_files:\n",
    "    # Construct the full path of the original image\n",
    "    original_image_path = os.path.join(original_image_dir, file_name)\n",
    "    \n",
    "    # Read the original image\n",
    "    image = cv2.imread(original_image_path)\n",
    "    \n",
    "    # Resize the image using the predefined function\n",
    "    resized_image = resize_image(image)\n",
    "    \n",
    "    # Construct the full path of the resized image\n",
    "    resized_image_path = os.path.join(resized_image_dir, file_name)\n",
    "    \n",
    "    # Save the resized and normalized image\n",
    "    cv2.imwrite(resized_image_path, resized_image)\n"
   ]
  },
  {
   "cell_type": "markdown",
   "metadata": {},
   "source": [
    "## For Post Impressionism"
   ]
  },
  {
   "cell_type": "code",
   "execution_count": 16,
   "metadata": {},
   "outputs": [],
   "source": [
    "# Define the paths\n",
    "original_image_dir = 'data/post-impressionism/originalImage/'\n",
    "resized_image_dir = 'data/post-impressionism/resizedImage/'\n",
    "\n",
    "# Get the list of all files in the originalImage directory\n",
    "all_files = os.listdir(original_image_dir)\n",
    "\n",
    "# Loop through each file\n",
    "for file_name in all_files:\n",
    "    # Construct the full path of the original image\n",
    "    original_image_path = os.path.join(original_image_dir, file_name)\n",
    "    \n",
    "    # Read the original image\n",
    "    image = cv2.imread(original_image_path)\n",
    "\n",
    "    # Resize the image using the predefined function\n",
    "    resized_image = resize_image(image)\n",
    "    \n",
    "    # Construct the full path of the resized image\n",
    "    resized_image_path = os.path.join(resized_image_dir, file_name)\n",
    "    \n",
    "    # Save the resized and normalized image\n",
    "    cv2.imwrite(resized_image_path, resized_image)\n"
   ]
  },
  {
   "cell_type": "markdown",
   "metadata": {},
   "source": [
    "# Spliting the data into train and val"
   ]
  },
  {
   "cell_type": "markdown",
   "metadata": {},
   "source": [
    "## For cubism"
   ]
  },
  {
   "cell_type": "code",
   "execution_count": 20,
   "metadata": {},
   "outputs": [],
   "source": [
    "allFiles = os.listdir('data/cubism/resizedImage/')\n",
    "os.makedirs('data/cubism/train', exist_ok=True)\n",
    "os.makedirs('data/cubism/val', exist_ok=True)\n",
    "\n",
    "# Splitting percentage is training 80% and validation 20%\n",
    "splittingPercentage = 0.8\n",
    "\n",
    "# Calculate the number of files for each split\n",
    "numberOfFiles = len(allFiles)\n",
    "trainSplit = int(splittingPercentage * numberOfFiles)\n",
    "\n",
    "# Move the files into the corresponding train and validation directories\n",
    "for index, file in enumerate(allFiles):\n",
    "    if index < trainSplit:\n",
    "        shutil.move('data/cubism/resizedImage/' + file, 'data/cubism/train/')\n",
    "    else:\n",
    "        shutil.move('data/cubism/resizedImage/' + file, 'data/cubism/val/')"
   ]
  },
  {
   "cell_type": "code",
   "execution_count": 21,
   "metadata": {},
   "outputs": [],
   "source": [
    "allFiles = os.listdir('data/impressionism/resizedImage/')\n",
    "os.makedirs('data/impressionism/train', exist_ok=True)\n",
    "os.makedirs('data/impressionism/val', exist_ok=True)\n",
    "\n",
    "# Splitting percentage is training 80% and validation 20%\n",
    "splittingPercentage = 0.8\n",
    "\n",
    "# Calculate the number of files for each split\n",
    "numberOfFiles = len(allFiles)\n",
    "trainSplit = int(splittingPercentage * numberOfFiles)\n",
    "\n",
    "# Move the files into the corresponding train and validation directories\n",
    "for index, file in enumerate(allFiles):\n",
    "    if index < trainSplit:\n",
    "        shutil.move('data/impressionism/resizedImage/' + file, 'data/impressionism/train/')\n",
    "    else:\n",
    "        shutil.move('data/impressionism/resizedImage/' + file, 'data/impressionism/val/')"
   ]
  },
  {
   "cell_type": "code",
   "execution_count": 22,
   "metadata": {},
   "outputs": [],
   "source": [
    "allFiles = os.listdir('data/post-impressionism/resizedImage/')\n",
    "os.makedirs('data/post-impressionism/train', exist_ok=True)\n",
    "os.makedirs('data/post-impressionism/val', exist_ok=True)\n",
    "\n",
    "# Splitting percentage is training 80% and validation 20%\n",
    "splittingPercentage = 0.8\n",
    "\n",
    "# Calculate the number of files for each split\n",
    "numberOfFiles = len(allFiles)\n",
    "trainSplit = int(splittingPercentage * numberOfFiles)\n",
    "\n",
    "# Move the files into the corresponding train and validation directories\n",
    "for index, file in enumerate(allFiles):\n",
    "    if index < trainSplit:\n",
    "        shutil.move('data/post-impressionism/resizedImage/' + file, 'data/post-impressionism/train/')\n",
    "    else:\n",
    "        shutil.move('data/post-impressionism/resizedImage/' + file, 'data/post-impressionism/val/')"
   ]
  },
  {
   "cell_type": "code",
   "execution_count": null,
   "metadata": {},
   "outputs": [],
   "source": []
  }
 ],
 "metadata": {
  "kernelspec": {
   "display_name": "Python 3",
   "language": "python",
   "name": "python3"
  },
  "language_info": {
   "codemirror_mode": {
    "name": "ipython",
    "version": 3
   },
   "file_extension": ".py",
   "mimetype": "text/x-python",
   "name": "python",
   "nbconvert_exporter": "python",
   "pygments_lexer": "ipython3",
   "version": "3.8.10"
  }
 },
 "nbformat": 4,
 "nbformat_minor": 2
}
